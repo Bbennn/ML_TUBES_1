{
 "cells": [
  {
   "cell_type": "code",
   "execution_count": 1,
   "metadata": {},
   "outputs": [],
   "source": [
    "from sklearn.datasets import fetch_openml\n",
    "from sklearn.model_selection import train_test_split\n",
    "from sklearn.metrics import accuracy_score, f1_score, confusion_matrix, classification_report\n",
    "import numpy as np\n",
    "\n",
    "train_samples = 10000\n",
    "\n",
    "X, y = fetch_openml(\"mnist_784\", version=1, return_X_y=True, as_frame=False)\n",
    "\n",
    "def expand(i):\n",
    "    res = [0 for _ in range(0, 10)]\n",
    "    res[i] = 1 \n",
    "    return res\n",
    "\n",
    "y = [expand(int(v)) for v in y]\n",
    "X_train, X_temp, y_train, y_temp = train_test_split(X, y, train_size=0.6, random_state=42)\n",
    "X_val, X_test, y_val, y_test = train_test_split(X_temp, y_temp, test_size=0.5, random_state=42)"
   ]
  },
  {
   "cell_type": "code",
   "execution_count": 2,
   "metadata": {},
   "outputs": [],
   "source": [
    "import sys\n",
    "import os\n",
    "\n",
    "sys.path.append(os.path.abspath(\"..\"))\n",
    "\n",
    "import src.FFNN as ffnn"
   ]
  },
  {
   "cell_type": "code",
   "execution_count": 3,
   "metadata": {},
   "outputs": [
    {
     "name": "stdout",
     "output_type": "stream",
     "text": [
      "Accuracy: 0.0942\n",
      "F1-score: 0.0162\n",
      "\n",
      "Confusion Matrix:\n",
      "[[   0    0    0    0    0    0    0    0 1419    0]\n",
      " [   0    0    0    0    0    0    0    0 1607    0]\n",
      " [   0    0    0    0    0    0    0    0 1403    0]\n",
      " [   0    0    0    0    0    0    0    0 1437    0]\n",
      " [   0    0    0    0    0    0    0    0 1326    0]\n",
      " [   0    0    0    0    0    0    0    0 1249    0]\n",
      " [   0    0    0    0    0    0    0    0 1351    0]\n",
      " [   0    0    0    0    0    0    0    0 1488    0]\n",
      " [   0    0    0    0    0    0    0    0 1319    0]\n",
      " [   0    0    0    0    0    0    0    0 1401    0]]\n",
      "\n",
      "Classification Report:\n",
      "              precision    recall  f1-score   support\n",
      "\n",
      "           0       0.00      0.00      0.00      1419\n",
      "           1       0.00      0.00      0.00      1607\n",
      "           2       0.00      0.00      0.00      1403\n",
      "           3       0.00      0.00      0.00      1437\n",
      "           4       0.00      0.00      0.00      1326\n",
      "           5       0.00      0.00      0.00      1249\n",
      "           6       0.00      0.00      0.00      1351\n",
      "           7       0.00      0.00      0.00      1488\n",
      "           8       0.09      1.00      0.17      1319\n",
      "           9       0.00      0.00      0.00      1401\n",
      "\n",
      "    accuracy                           0.09     14000\n",
      "   macro avg       0.01      0.10      0.02     14000\n",
      "weighted avg       0.01      0.09      0.02     14000\n",
      "\n"
     ]
    },
    {
     "name": "stderr",
     "output_type": "stream",
     "text": [
      "c:\\Python312\\Lib\\site-packages\\sklearn\\metrics\\_classification.py:1565: UndefinedMetricWarning: Precision is ill-defined and being set to 0.0 in labels with no predicted samples. Use `zero_division` parameter to control this behavior.\n",
      "  _warn_prf(average, modifier, f\"{metric.capitalize()} is\", len(result))\n",
      "c:\\Python312\\Lib\\site-packages\\sklearn\\metrics\\_classification.py:1565: UndefinedMetricWarning: Precision is ill-defined and being set to 0.0 in labels with no predicted samples. Use `zero_division` parameter to control this behavior.\n",
      "  _warn_prf(average, modifier, f\"{metric.capitalize()} is\", len(result))\n",
      "c:\\Python312\\Lib\\site-packages\\sklearn\\metrics\\_classification.py:1565: UndefinedMetricWarning: Precision is ill-defined and being set to 0.0 in labels with no predicted samples. Use `zero_division` parameter to control this behavior.\n",
      "  _warn_prf(average, modifier, f\"{metric.capitalize()} is\", len(result))\n"
     ]
    }
   ],
   "source": [
    "# Define neural network parameters\n",
    "layer_size = [784, 24, 24, 24, 10, 10]\n",
    "activations = [\"sigmoid\", \"sigmoid\", \"sigmoid\", \"sigmoid\", \"tanh\"]\n",
    "\n",
    "# Create and train the model\n",
    "model = ffnn.FFNN(layer_sizes=layer_size, activations=activations, loss=\"mse\", weight_initializer=\"normal\", weight_init_args={\"seed\": 73}, use_rms_norm=True)\n",
    "model.fit(X_train, y_train, 50, 0.1, 20, False, X_val, y_val)\n",
    "\n",
    "# Predict on the test set\n",
    "y_pred = model.predict(X_test)\n",
    "\n",
    "# Convert one-hot predictions to labels\n",
    "y_test_labels = np.argmax(y_test, axis=1)\n",
    "y_pred_labels = np.argmax(y_pred, axis=1)\n",
    "\n",
    "# Compute evaluation metrics\n",
    "accuracy = accuracy_score(y_test_labels, y_pred_labels)\n",
    "f1 = f1_score(y_test_labels, y_pred_labels, average=\"weighted\")\n",
    "conf_matrix = confusion_matrix(y_test_labels, y_pred_labels)\n",
    "\n",
    "# Print results\n",
    "print(f\"Accuracy: {accuracy:.4f}\")\n",
    "print(f\"F1-score: {f1:.4f}\")\n",
    "print(\"\\nConfusion Matrix:\")\n",
    "print(conf_matrix)\n",
    "print(\"\\nClassification Report:\")\n",
    "print(classification_report(y_test_labels, y_pred_labels))"
   ]
  }
 ],
 "metadata": {
  "kernelspec": {
   "display_name": "Python 3",
   "language": "python",
   "name": "python3"
  },
  "language_info": {
   "codemirror_mode": {
    "name": "ipython",
    "version": 3
   },
   "file_extension": ".py",
   "mimetype": "text/x-python",
   "name": "python",
   "nbconvert_exporter": "python",
   "pygments_lexer": "ipython3",
   "version": "3.12.3"
  }
 },
 "nbformat": 4,
 "nbformat_minor": 2
}
